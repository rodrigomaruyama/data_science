{
 "cells": [
  {
   "cell_type": "code",
   "execution_count": null,
   "metadata": {
    "collapsed": true
   },
   "outputs": [],
   "source": []
  },
  {
   "cell_type": "code",
   "execution_count": null,
   "metadata": {
    "collapsed": true
   },
   "outputs": [],
   "source": [
    "# Importação de bibliotecas\n",
    "\n",
    "import matplotlib.pyplot as plt\n",
    "import numpy as np\n",
    "import pandas as pd\n",
    "import seaborn as sns"
   ]
  },
  {
   "cell_type": "code",
   "execution_count": null,
   "metadata": {
    "collapsed": true
   },
   "outputs": [],
   "source": [
    "# Leitura dos arquivos\n",
    "\n",
    "path = '/home/maru/Documents/Udacity/Udacity-DataScienceI/Projeto_final/ndfdsi-bikeshareanalysis/'\n",
    "\n",
    "# \n",
    "201309_trip_data.csv\n",
    "201309_trip_summary.csv\n",
    "\n",
    "201402_station_data.csv\n",
    "201402_trip_data.csv\n",
    "201402_weather_data.csv\n",
    "\n",
    "201408_station_data.csv\n",
    "201408_trip_data.csv\n",
    "201408_weather_data.csv\n",
    "\n",
    "201508_station_data.csv\n",
    "201508_trip_data.csv\n",
    "201508_weather_data.csv\n",
    "\n",
    "\n",
    "\n"
   ]
  },
  {
   "cell_type": "code",
   "execution_count": 1,
   "metadata": {
    "collapsed": true
   },
   "outputs": [],
   "source": [
    "# Grafico Pizza de Estações por cidade\n",
    "# Descobrir o total de estações por cidade\n"
   ]
  },
  {
   "cell_type": "code",
   "execution_count": 2,
   "metadata": {
    "collapsed": true
   },
   "outputs": [],
   "source": [
    "# Grafico Pizza de Docks por cidade"
   ]
  },
  {
   "cell_type": "code",
   "execution_count": 3,
   "metadata": {
    "collapsed": true
   },
   "outputs": [],
   "source": [
    "# Grafico Pizza de rides por cidade"
   ]
  },
  {
   "cell_type": "code",
   "execution_count": 4,
   "metadata": {
    "collapsed": true
   },
   "outputs": [],
   "source": [
    "# Valor do total de rides no periodo e o tempo médio"
   ]
  },
  {
   "cell_type": "code",
   "execution_count": 5,
   "metadata": {
    "collapsed": true
   },
   "outputs": [],
   "source": [
    "# Valor total de rides em horas"
   ]
  },
  {
   "cell_type": "code",
   "execution_count": 6,
   "metadata": {
    "collapsed": true
   },
   "outputs": [],
   "source": [
    "# Pergunta: How much is the Bay Area Bike Share used?\n",
    "# Grafico linha (x,y) = (data, total de rides)"
   ]
  },
  {
   "cell_type": "code",
   "execution_count": 7,
   "metadata": {
    "collapsed": true
   },
   "outputs": [],
   "source": [
    "# Média de rides em dias de semana"
   ]
  },
  {
   "cell_type": "code",
   "execution_count": 8,
   "metadata": {
    "collapsed": true
   },
   "outputs": [],
   "source": [
    "# Média de rides nos finais de semana"
   ]
  },
  {
   "cell_type": "code",
   "execution_count": 9,
   "metadata": {
    "collapsed": true
   },
   "outputs": [],
   "source": [
    "# Numero máximo de rides - busiest day"
   ]
  },
  {
   "cell_type": "code",
   "execution_count": 10,
   "metadata": {
    "collapsed": true
   },
   "outputs": [],
   "source": [
    "# Numero mínimo de rides - calmest day"
   ]
  },
  {
   "cell_type": "code",
   "execution_count": 11,
   "metadata": {
    "collapsed": true
   },
   "outputs": [],
   "source": [
    "# Pergunta: Who uses the Bay Area Bike Share?\n",
    "# Gráfico Pizza entre assinantes mensais de clientes eventuais"
   ]
  },
  {
   "cell_type": "code",
   "execution_count": 12,
   "metadata": {
    "collapsed": true
   },
   "outputs": [],
   "source": [
    "# When is Bay Area Bike Share used? Next 4 graphics\n",
    "# Histograma do numero de rides nos dias de semana separados por assinantes, clientes e total"
   ]
  },
  {
   "cell_type": "code",
   "execution_count": 13,
   "metadata": {
    "collapsed": true
   },
   "outputs": [],
   "source": [
    "# Historama do numero de rides pelo horario de cada ride separados por assinantes, clientes e total"
   ]
  },
  {
   "cell_type": "code",
   "execution_count": 14,
   "metadata": {
    "collapsed": true
   },
   "outputs": [],
   "source": [
    "# Histograma do numero de rides pelo tempo (em minutos) de cada ride separados por assinantes, clientes e total"
   ]
  },
  {
   "cell_type": "code",
   "execution_count": null,
   "metadata": {
    "collapsed": true
   },
   "outputs": [],
   "source": [
    "# Histograma do numero de rides pelo tempo (em horas) de cada ride separados por assinantes, clientes e total"
   ]
  },
  {
   "cell_type": "code",
   "execution_count": 15,
   "metadata": {
    "collapsed": true
   },
   "outputs": [],
   "source": [
    "# Pergunta: Where do people ride Bike Share?\n",
    "# Tabela contendo a média de rides por cidade separados por assinantes, clientes e total"
   ]
  },
  {
   "cell_type": "code",
   "execution_count": 16,
   "metadata": {
    "collapsed": true
   },
   "outputs": [],
   "source": [
    "# Histograma bem elaborado dos numeros de ride por dia do ano (periodo total) com possiblidade de visualização\n",
    "# individual das 5 cidades ou de todas juntas, mais a média. Botões para visualização dos feriados, finais de semana,\n",
    "# temperatura, chuva e jogos esportivos importantes"
   ]
  },
  {
   "cell_type": "code",
   "execution_count": 17,
   "metadata": {
    "collapsed": true
   },
   "outputs": [],
   "source": [
    "# Tabela das Top 10 Start Stations contendo o nome da estação e o numero de rides"
   ]
  },
  {
   "cell_type": "code",
   "execution_count": 18,
   "metadata": {
    "collapsed": true
   },
   "outputs": [],
   "source": [
    "# Tabela das Top 10 Destinations Stations contendo o nome da estação e o numero de rides"
   ]
  },
  {
   "cell_type": "code",
   "execution_count": 19,
   "metadata": {
    "collapsed": true
   },
   "outputs": [],
   "source": [
    "# Tabela de destaque para a estação mais utilizada tanto para Start quanto para Destination"
   ]
  },
  {
   "cell_type": "code",
   "execution_count": 20,
   "metadata": {
    "collapsed": true
   },
   "outputs": [],
   "source": [
    "# Grafico de barras horizontal mostrando da mais utilizada para a menos utilizada, de um lado os starts\n",
    "# e do outro lado os destinations"
   ]
  },
  {
   "cell_type": "code",
   "execution_count": 21,
   "metadata": {
    "collapsed": true
   },
   "outputs": [],
   "source": [
    "# Tabela de rides totais entre 4 estações específicas: BART, Caltrain, Ferry Building, Transbay terminal"
   ]
  },
  {
   "cell_type": "code",
   "execution_count": 22,
   "metadata": {
    "collapsed": true
   },
   "outputs": [],
   "source": [
    "# Tabela com a média para os mesmos parâmetros da tabela acima"
   ]
  },
  {
   "cell_type": "code",
   "execution_count": 23,
   "metadata": {
    "collapsed": true
   },
   "outputs": [],
   "source": [
    "# HeatMap. É uma matrix que mostra a intensidade de uso entre estações."
   ]
  },
  {
   "cell_type": "code",
   "execution_count": 24,
   "metadata": {
    "collapsed": true
   },
   "outputs": [],
   "source": [
    "# Tabela com as Top 10 rotas mais utilizadas From -> To e o respectivo numero de rides"
   ]
  },
  {
   "cell_type": "code",
   "execution_count": null,
   "metadata": {
    "collapsed": true
   },
   "outputs": [],
   "source": []
  }
 ],
 "metadata": {
  "kernelspec": {
   "display_name": "Python 2",
   "language": "python",
   "name": "python2"
  },
  "language_info": {
   "codemirror_mode": {
    "name": "ipython",
    "version": 2
   },
   "file_extension": ".py",
   "mimetype": "text/x-python",
   "name": "python",
   "nbconvert_exporter": "python",
   "pygments_lexer": "ipython2",
   "version": "2.7.13"
  }
 },
 "nbformat": 4,
 "nbformat_minor": 2
}
