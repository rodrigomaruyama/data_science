{
 "cells": [
  {
   "cell_type": "markdown",
   "metadata": {},
   "source": [
    "# Fundamentos de Data Science II - Udacity\n",
    "## Projeto Final: Estudo dos dados dos passageiros do Titanic\n",
    "### Aluno: Rodrigo P Maruyama\n",
    "---\n",
    "### Link do Projeto Final no Tableau:\n",
    "https://public.tableau.com/profile/rodrigo.p.maruyama#!/vizhome/TitanicSegundaRevisao/StoryTitanic\n",
    "\n",
    "### Links dos dados:\n",
    "#### Link Kaggle: https://www.kaggle.com/c/titanic\n",
    "#### Link Dataset: https://www.google.com/url?q=https://d17h27t6h515a5.cloudfront.net/topher/2017/October/59d54e6d_titanic-data/titanic-data.csv&sa=D&ust=1511199139424000&usg=AFQjCNEIXQZW7RY8qrVhdufTcjDcWZ-7Yw"
   ]
  },
  {
   "cell_type": "markdown",
   "metadata": {},
   "source": [
    "---\n",
    "### Resumo\n",
    "#### A hipótese que quero testar é se Mulheres e crianças tiveram preferência na evacuação do Titanic. Para tanto estudei a porcentagem de sobreviventes divididos pelo sexo em 5 condições diferentes. As 5 condições são: faixa etária, classe, tipo de cabine, Porto de Embarque e valor da passagem. Como no data set temos uma coluna para idade e outra para sexo, fiz um calculo utilizando essas duas informações e atualizei os valores da coluna de \"sexo\" para passageiros com idade inferior a 12 anos com o valor \"crianças\".\n",
    "\n",
    "---"
   ]
  },
  {
   "cell_type": "markdown",
   "metadata": {},
   "source": [
    "## Indice\n",
    "\n",
    "1. Introdução\n",
    "2. Hipótese\n",
    "3. Faixa Etária\n",
    "4. Classe \n",
    "5. Tipo de cabine\n",
    "6. Porto de embarque\n",
    "7. Valor da passagem\n",
    "8. Resultado geral\n",
    "9. Conclusão\n",
    "10. Design\n",
    "11. Feedbacks\n",
    "12. Ações após feedbacks\n",
    "13. Relação das combinações com taxa > 80%\n",
    "14. Relação das combinações com numero de sobreviventes > 5\n",
    "15. Links acessados"
   ]
  },
  {
   "cell_type": "markdown",
   "metadata": {},
   "source": [
    "## 1. Introdução\n",
    "\n",
    "![introducao](images/Selection_142.jpg)"
   ]
  },
  {
   "cell_type": "markdown",
   "metadata": {},
   "source": [
    "## 2. Hipótese\n",
    "\n",
    "![hipotese](images/Selection_143.jpg)"
   ]
  },
  {
   "cell_type": "markdown",
   "metadata": {},
   "source": [
    "## 3. Faixa etária\n",
    "\n",
    "![faixaetaria](images/Selection_144.jpg)"
   ]
  },
  {
   "cell_type": "markdown",
   "metadata": {},
   "source": [
    "## 4. Classe\n",
    "\n",
    "![classe](images/Selection_145.jpg)"
   ]
  },
  {
   "cell_type": "markdown",
   "metadata": {},
   "source": [
    "## 5. Tipo de cabine\n",
    "\n",
    "![cabine](images/Selection_146.jpg)"
   ]
  },
  {
   "cell_type": "markdown",
   "metadata": {},
   "source": [
    "## 6. Porto de embarque\n",
    "\n",
    "![embarque](images/Selection_145.jpg)"
   ]
  },
  {
   "cell_type": "markdown",
   "metadata": {},
   "source": [
    "## 7. Valor da passagem\n",
    "\n",
    "#### Aqui temos uma distribuição que vai de 0 a 100 de 10 em 10 e a ultima categoria engloba todos os outros valores.\n",
    "\n",
    "![passagem](images/Selection_148.jpg)"
   ]
  },
  {
   "cell_type": "markdown",
   "metadata": {},
   "source": [
    "## 8. Resultado Geral por sexo\n",
    "\n",
    "#### Caso deseje observar a taxa de sobreviventes para cada sexo separadamente deve-se selecionar no filtro ao lado a opção desejada\n",
    "\n",
    "![geralsexo](images/Selection_149.jpg)"
   ]
  },
  {
   "cell_type": "markdown",
   "metadata": {},
   "source": [
    "## 9. Conclusão\n",
    "\n",
    "![conclusao](images/Selection_150.jpg)"
   ]
  },
  {
   "cell_type": "markdown",
   "metadata": {},
   "source": [
    "## 10. Design\n",
    "\n",
    "#### Foi utilizada a paleta de cores qualitativa pois tinhamos mais de 2 valores que precisavamos distingui-los claramente."
   ]
  },
  {
   "cell_type": "markdown",
   "metadata": {},
   "source": [
    "## 11. Feedbacks\n",
    "\n",
    "### Após o término dessa apresentação submeti à apreciação o meu trabalho do fórum do curso, no canal da Slack da turma de setembro e no canal Geral da Udacity. Optei também por pedir feedbacks a alguns amigos externos e obtive o seguinte:\n",
    "\n",
    "#### Aimgo JE: \"Achei muito legal os slides. Falta agora a parte do algoritmo para classificação.\"\n",
    "\n",
    "#### Amigo JEST: \"Muito massa! O q me interessou foi saber q ser da primeira classe aumenta as chances de sobreviver num naufrágio  em relação a segunda e terceira classe.\"\n",
    "\n",
    "#### Amigo BGB: Parabéns pela confecção de seu projeto final, gostei muito de sua forma de apresentação. Achei o encadeamento de sua história muito bem explanada. Suas descobertas foram bem demonstradas através dos gráficos. Alerto para melhorar a exposição tanto na sua história como no seu resumo(pdf) das descobertas que você quiz evidenciar, creio que uma conclusão resolveria isso facilmente. Excelente trabalho, boa sorte!\n"
   ]
  },
  {
   "cell_type": "markdown",
   "metadata": {},
   "source": [
    "## 12. Ações após feedbacks\n",
    "\n",
    "#### Criei uma tabela que mostra as combinações com maior relação (sobrevivente)/(não sobrevivente). Esse calculo foi feito em um notebook separado e está anexado junto com o Projeto com o nome de \"Tableau Titanic\".\n",
    "\n",
    "#### Como podemos observar nas tabelas abaixo, a hipótese está de acordo com os resultados encontrados. Abaixo temos as legendas para as combinações apresentadas nas tabelas.\n",
    "\n",
    "|Legenda da combinação|\n",
    "|---|---|\n",
    "|Combinação|Sexo, Faixa etária, Porto de embarque, Classe|\n",
    "|Faixa etária|A: 0 a 9, B: 10 a 19, C: 20 a 29, D: 30 a 39, E: 40 a 49, F: 50 a 59, G: 60 a 69, H: >70|\n",
    "|Porto|C=Cherbourg-França: , S=Southampton-UK, Q=Queenstown-Irlanda|"
   ]
  },
  {
   "cell_type": "markdown",
   "metadata": {},
   "source": [
    "## 13. Relação das combinações com taxa > 80%"
   ]
  },
  {
   "cell_type": "markdown",
   "metadata": {
    "collapsed": true
   },
   "source": [
    "|Combinação|Sobreviventes|Não sobreviventes|Porcentagem de sobreviventes(%)|\n",
    "|---|---|---|---|\n",
    "|female,D,S,2|15|1|93.75\n",
    "|female,E,S,2|9|1|90.00\n",
    "|female,C,S,1|8|1|88.89\n",
    "|female,C,S,2|18|3|85.71\n",
    "|female,F,C,1|6|1|85.71\n",
    "|menina,A,C,3|5|1|83.33\n",
    "|female,F,S,2|5|1|83.33"
   ]
  },
  {
   "cell_type": "markdown",
   "metadata": {
    "collapsed": true
   },
   "source": [
    "### Podemos perceber uma clara tendencia para mulheres, adultas das classes 1 e 2"
   ]
  },
  {
   "cell_type": "markdown",
   "metadata": {},
   "source": [
    "## 14. Relação das combinações com numero de sobreviventes > 5"
   ]
  },
  {
   "cell_type": "markdown",
   "metadata": {},
   "source": [
    "|Combinação|Sobreviventes|Não sobreviventes|Porcentagem de sobreviventes(%)|\n",
    "|---|---|---|---|\n",
    "|female,D,S,2|15|1|93.75\n",
    "|female,E,S,2|9|1|90.00\n",
    "|female,C,S,1|8|1|88.89\n",
    "|female,F,C,1|6|1|85.71\n",
    "|female,C,S,2|18|3|85.71\n",
    "|female,D,S,3|7|6|53.85\n",
    "|male,D,S,1|8|8|50.00\n",
    "|female,C,S,3|12|15|44.44\n",
    "|menino,A,S,3|7|9|43.75\n",
    "|menina,A,S,3|6|9|40.00\n",
    "|male,D,S,3|8|37|17.78\n",
    "|male,C,S,3|10|77|11.49"
   ]
  },
  {
   "cell_type": "markdown",
   "metadata": {},
   "source": [
    "### Podemos observar que as menores taxas são para passageiros da 3a. classe"
   ]
  },
  {
   "cell_type": "markdown",
   "metadata": {},
   "source": [
    "## ***O notebook que gerou os dados dessas tabelas esta anexado ao Projeto com o nome \"TableTitanic.ipynb\""
   ]
  },
  {
   "cell_type": "markdown",
   "metadata": {},
   "source": [
    "## 15. Links acessados que consultei para fazer este projeto\n",
    "\n",
    "#### https://stackoverflow.com/questions/29156653/ipython-jupyter-problems-saving-notebook-as-pdf\n",
    "#### https://stackoverflow.com/questions/11181295/python-format-decimal-with-a-minimum-number-of-decimal-places\n",
    "#### https://stackoverflow.com/questions/10768724/why-does-python-return-0-for-simple-division-calculation\n",
    "#### https://stackoverflow.com/questions/16476924/how-to-iterate-over-rows-in-a-dataframe-in-pandas\n",
    "#### https://pandas.pydata.org/pandas-docs/stable/generated/pandas.DataFrame.sort_values.html\n",
    "#### https://stackoverflow.com/questions/14529838/apply-multiple-functions-to-multiple-groupby-columns\n",
    "#### https://www.google.com.br/search?q=dataframe+into+csv+file&oq=dataframe+into+csv+file&aqs=chrome..69i57j0.7039j0j7&sourceid=chrome&ie=UTF-8\n",
    "#### https://www.tableau.com/pt-br/learn/live-training/treinamento-introdutorio-global-live-web-training-intro-getting-started-2017-11-21\n",
    "#### http://onlinehelp.tableau.com/current/pro/desktop/pt-br/trendlines_significance.html\n",
    "#### https://community.tableau.com/docs/DOC-6451\n",
    "#### https://community.tableau.com/ideas/2667\n",
    "#### https://www.tableau.com/learn/tutorials/on-demand/getting-started-calculations?utm_campaign_id=2017103&utm_campaign=Nurture-PROD-ALL-ALL-ALL-ALL&utm_medium=Paid+Social&utm_source=Facebook&utm_language=EN&utm_country=BRA&adgroup=WEB-Desktop+Training-Topical"
   ]
  },
  {
   "cell_type": "code",
   "execution_count": null,
   "metadata": {
    "collapsed": true
   },
   "outputs": [],
   "source": []
  }
 ],
 "metadata": {
  "kernelspec": {
   "display_name": "Python 3",
   "language": "python",
   "name": "python3"
  },
  "language_info": {
   "codemirror_mode": {
    "name": "ipython",
    "version": 3
   },
   "file_extension": ".py",
   "mimetype": "text/x-python",
   "name": "python",
   "nbconvert_exporter": "python",
   "pygments_lexer": "ipython3",
   "version": "3.6.4"
  }
 },
 "nbformat": 4,
 "nbformat_minor": 2
}
